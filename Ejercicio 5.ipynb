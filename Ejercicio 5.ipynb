{
 "cells": [
  {
   "cell_type": "code",
   "execution_count": 135,
   "metadata": {},
   "outputs": [],
   "source": [
    "#librerias a importar\n",
    "\n",
    "#para que el usuario interactue\n",
    "from ipywidgets import interact, interactive, interact_manual\n",
    "\n",
    "#Para mate y graficos\n",
    "import numpy as np\n",
    "import matplotlib.pyplot as plt\n",
    "from skimage.util.shape import view_as_blocks\n",
    "\n",
    "\n",
    "#Para procesar imagenes en python\n",
    "from skimage import data\n",
    "from skimage.color import rgb2gray\n",
    "from  skimage import img_as_ubyte,img_as_float\n",
    "from skimage.transform import resize\n",
    "\n",
    "\n",
    "#para realizar el svd\n",
    "from numpy.linalg import svd"
   ]
  },
  {
   "cell_type": "code",
   "execution_count": 136,
   "metadata": {},
   "outputs": [],
   "source": [
    "%matplotlib inline"
   ]
  },
  {
   "cell_type": "code",
   "execution_count": 137,
   "metadata": {},
   "outputs": [
    {
     "data": {
      "text/plain": [
       "(675, 1200, 3)"
      ]
     },
     "execution_count": 137,
     "metadata": {},
     "output_type": "execute_result"
    }
   ],
   "source": [
    "##para leer la imagen\n",
    "##Imagen 1\n",
    "I = plt.imread('quetzal.png')[:,:,:3]\n",
    "I.shape\n",
    "\n",
    "##Imagen 2\n",
    "II = plt.imread('flores.png')[:,:,:3]\n",
    "II.shape"
   ]
  },
  {
   "cell_type": "code",
   "execution_count": 138,
   "metadata": {},
   "outputs": [],
   "source": [
    "##pasamos las imagenes a gris para el svd\n",
    "Igray = rgb2gray(I)\n",
    "Igray.shape\n",
    "\n",
    "IIgray = rgb2gray(II)"
   ]
  },
  {
   "cell_type": "code",
   "execution_count": 139,
   "metadata": {},
   "outputs": [],
   "source": [
    "##hacer mis imagenes cuadradas\n",
    "def make_square(image):\n",
    "    if len(image.shape) == 2:  # Imagen en escala de grises\n",
    "        height, width = image.shape\n",
    "    elif len(image.shape) == 3:  # Imagen en color\n",
    "        height, width, _ = image.shape\n",
    "    else:\n",
    "        raise ValueError(\"Formato de imagen no válido. Se esperaba una imagen en escala de grises (2D) o en color (3D).\")\n",
    "\n",
    "    min_dim = min(height, width)\n",
    "\n",
    "    # Calcular las coordenadas de corte para recortar la imagen\n",
    "    start_row = (height - min_dim) // 2\n",
    "    end_row = start_row + min_dim\n",
    "    start_col = (width - min_dim) // 2\n",
    "    end_col = start_col + min_dim\n",
    "\n",
    "    # Recortar la imagen para hacerla cuadrada\n",
    "    square_image = image[start_row:end_row, start_col:end_col]\n",
    "\n",
    "    return square_image\n"
   ]
  },
  {
   "cell_type": "code",
   "execution_count": 140,
   "metadata": {},
   "outputs": [],
   "source": [
    "##vamos a pasar todas nuestras imagenes a un diccionario para poder utilizarlas despues\n",
    "gray_images = {\"quetzal\": (img_as_float(Igray)), \"flores\": (img_as_float(IIgray))}\n",
    "color_images = {\"quetzal\": (img_as_float(I)), \"flores\": (img_as_float(II))}\n",
    "\n",
    "##volvemos las imagenes cuadradas\n",
    "for key, image in gray_images.items():\n",
    "    gray_images[key] = make_square(image)\n",
    "for key, image in color_images.items():\n",
    "    color_images[key] = make_square(image)"
   ]
  },
  {
   "cell_type": "markdown",
   "metadata": {},
   "source": [
    "## Descomposición SVD"
   ]
  },
  {
   "cell_type": "code",
   "execution_count": 159,
   "metadata": {},
   "outputs": [],
   "source": [
    "#creamos la matriz de datos para el svd \n",
    "\n",
    "def matriz (image, b):\n",
    "    image = image.copy()\n",
    "    \n",
    "    # visualizar una porción de la información\n",
    "    (255 * image[:b,:b]).astype(np.uint8)\n",
    "    mu = image.mean(axis=0)\n",
    "    std = image.std(axis=0)\n",
    "    image = (image - mu) / std\n",
    "\n",
    "    return image"
   ]
  },
  {
   "cell_type": "code",
   "execution_count": 160,
   "metadata": {},
   "outputs": [],
   "source": [
    "##para hacer el svd de las imagenes\n",
    "def compress_svd(image,k, b):\n",
    "    U,S,V = svd(image)\n",
    "    reconts_matriz = np.dot(U[:, :k], np.dot(np.diag(S[:k]), V[:k, :]))\n",
    "    return reconts_matriz,S, U, V\n"
   ]
  },
  {
   "cell_type": "markdown",
   "metadata": {},
   "source": [
    "## Compresión de imagenes en gris"
   ]
  },
  {
   "cell_type": "code",
   "execution_count": 161,
   "metadata": {},
   "outputs": [],
   "source": [
    "def compresiongris(Imagen, k, b):\n",
    "    \n",
    "    image = gray_images[Imagen]\n",
    "    original_shape = image.shape ##llamamos a la imagen con escalas de grises\n",
    "    reconst_img, S, V, U = compress_svd(image, k, b)# Realizamos la compresión SVD en la imagen con la cantidad de K \n",
    "    reconst_img = reconst_img.reshape(original_shape)# Volvemos a dar forma a la imagen reconstruida a la forma original\n",
    "    # Calculamos la relación de compresión en porcentaje utilizando la fórmula especificada. (aun no se si si es esta vdd)\n",
    "    compress_ratio = 100.0 * k * (original_shape[0] + original_shape[1] + k) / (original_shape[0] * original_shape[1])\n",
    "    plt.title('radio de compresion = {:.2f}'.format(compress_ratio) + \"%\")\n",
    "    plt.imshow(reconst_img, cmap = 'gray')\n",
    "    print(f'U.shape:{U.shape},S.shape:{S.shape},V.shape:{V.shape}')\n"
   ]
  },
  {
   "cell_type": "code",
   "execution_count": 162,
   "metadata": {},
   "outputs": [
    {
     "data": {
      "application/vnd.jupyter.widget-view+json": {
       "model_id": "78bc03d714da4cbd8683ee1610eff238",
       "version_major": 2,
       "version_minor": 0
      },
      "text/plain": [
       "interactive(children=(Dropdown(description='Imagen', options=('quetzal', 'flores'), value='quetzal'), IntSlide…"
      ]
     },
     "metadata": {},
     "output_type": "display_data"
    },
    {
     "data": {
      "text/plain": [
       "<function __main__.compresiongris(Imagen, k, b)>"
      ]
     },
     "execution_count": 162,
     "metadata": {},
     "output_type": "execute_result"
    }
   ],
   "source": [
    "interact(compresiongris, Imagen=list(gray_images.keys()),k=(1,300), b = (1, 200)) ##creamos una interfaz para poder cambiar a nuestro gusto la k y b. "
   ]
  },
  {
   "cell_type": "markdown",
   "metadata": {},
   "source": [
    "## Compresión de imagenes a color"
   ]
  },
  {
   "cell_type": "code",
   "execution_count": 169,
   "metadata": {},
   "outputs": [],
   "source": [
    "def compresioncolor(Imagen, k, b):\n",
    "    image = color_images[Imagen] ##llamamos a la imagen con color\n",
    "    original_shape = image.shape\n",
    "    image_reshaped = image.reshape((original_shape[0],original_shape[1]*3))\n",
    "    image_reconst,S, V, U =compress_svd(image_reshaped,k, b) # Realizamos la compresión SVD en la imagen con la cantidad de K \n",
    "    image_reconst = image_reconst.reshape(original_shape) # Volvemos a dar forma a la imagen reconstruida a la forma original\n",
    "    # Calculamos la relación de compresión en porcentaje utilizando la fórmula especificada. (aun no se si si es esta vdd)\n",
    "    compress_ratio = 100.0*(k*(original_shape[0]+ 3*original_shape[1]+k))/(original_shape[0]*original_shape[1]*original_shape[2])  \n",
    "    plt.title('radio de compresion = {:.2f}'.format(compress_ratio) + \"%\")\n",
    "    plt.imshow(image_reconst)\n",
    "    print(f'U.shape:{U.shape},S.shape:{S.shape},V.shape:{V.shape}')\n"
   ]
  },
  {
   "cell_type": "code",
   "execution_count": 170,
   "metadata": {},
   "outputs": [
    {
     "data": {
      "application/vnd.jupyter.widget-view+json": {
       "model_id": "bde20fc7fff94461b376265879bfab46",
       "version_major": 2,
       "version_minor": 0
      },
      "text/plain": [
       "interactive(children=(Dropdown(description='Imagen', options=('quetzal', 'flores'), value='quetzal'), IntSlide…"
      ]
     },
     "metadata": {},
     "output_type": "display_data"
    },
    {
     "data": {
      "text/plain": [
       "<function __main__.compresioncolor(Imagen, k, b)>"
      ]
     },
     "execution_count": 170,
     "metadata": {},
     "output_type": "execute_result"
    }
   ],
   "source": [
    "interact(compresioncolor, Imagen=list(color_images.keys()),k=(1,300), b=(1,2700)) ##creamos una interfaz para poder cambiar a nuestro gusto la k y b. "
   ]
  }
 ],
 "metadata": {
  "kernelspec": {
   "display_name": "Python 3",
   "language": "python",
   "name": "python3"
  },
  "language_info": {
   "codemirror_mode": {
    "name": "ipython",
    "version": 3
   },
   "file_extension": ".py",
   "mimetype": "text/x-python",
   "name": "python",
   "nbconvert_exporter": "python",
   "pygments_lexer": "ipython3",
   "version": "3.11.1"
  },
  "orig_nbformat": 4
 },
 "nbformat": 4,
 "nbformat_minor": 2
}
